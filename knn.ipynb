{
  "nbformat": 4,
  "nbformat_minor": 0,
  "metadata": {
    "colab": {
      "provenance": [],
      "authorship_tag": "ABX9TyN8w7wTtzRbNEe/oXFqhyM/",
      "include_colab_link": true
    },
    "kernelspec": {
      "name": "python3",
      "display_name": "Python 3"
    },
    "language_info": {
      "name": "python"
    }
  },
  "cells": [
    {
      "cell_type": "markdown",
      "metadata": {
        "id": "view-in-github",
        "colab_type": "text"
      },
      "source": [
        "<a href=\"https://colab.research.google.com/github/KivancA/KNN/blob/main/knn.ipynb\" target=\"_parent\"><img src=\"https://colab.research.google.com/assets/colab-badge.svg\" alt=\"Open In Colab\"/></a>"
      ]
    },
    {
      "cell_type": "code",
      "execution_count": 1,
      "metadata": {
        "id": "XeP7eWd7MTY8"
      },
      "outputs": [],
      "source": [
        "import pandas as pd\n",
        "from sklearn.metrics import classification_report, roc_auc_score\n",
        "from sklearn.model_selection import GridSearchCV, cross_validate\n",
        "from sklearn.neighbors import KNeighborsClassifier\n",
        "from sklearn.preprocessing import StandardScaler\n",
        "pd.set_option('display.max_columns', None)\n",
        "pd.set_option('display.width', 500)\n"
      ]
    },
    {
      "cell_type": "code",
      "source": [
        "\n",
        "################################################\n",
        "# 1. Exploratory Data Analysis\n",
        "################################################\n",
        "\n",
        "df = pd.read_csv(\"/content/diabetes.csv\")\n",
        "\n",
        "df.head()\n",
        "df.shape\n",
        "df.describe().T\n",
        "df[\"Outcome\"].value_counts()"
      ],
      "metadata": {
        "colab": {
          "base_uri": "https://localhost:8080/"
        },
        "id": "SOoc6v0iMhO1",
        "outputId": "1bbda2d9-2e3a-4ca5-8dcf-85bda68e240a"
      },
      "execution_count": 3,
      "outputs": [
        {
          "output_type": "execute_result",
          "data": {
            "text/plain": [
              "0    500\n",
              "1    268\n",
              "Name: Outcome, dtype: int64"
            ]
          },
          "metadata": {},
          "execution_count": 3
        }
      ]
    },
    {
      "cell_type": "code",
      "source": [
        "\n",
        "################################################\n",
        "# 2. Data Preprocessing & Feature Engineering\n",
        "################################################\n",
        "\n",
        "y = df[\"Outcome\"]\n",
        "X = df.drop([\"Outcome\"], axis=1)\n",
        "\n",
        "X_scaled = StandardScaler().fit_transform(X)\n",
        "\n",
        "#X = pd.DataFrame(X_scaled, columns=X.columns)"
      ],
      "metadata": {
        "id": "Aps3oworMqZQ"
      },
      "execution_count": 8,
      "outputs": []
    },
    {
      "cell_type": "code",
      "source": [
        "################################################\n",
        "# 3. Modeling & Prediction\n",
        "################################################\n",
        "\n",
        "knn_model = KNeighborsClassifier().fit(X, y)\n",
        "\n",
        "random_user = X.sample(1, random_state=45)\n",
        "\n",
        "knn_model.predict(random_user)"
      ],
      "metadata": {
        "colab": {
          "base_uri": "https://localhost:8080/"
        },
        "id": "HhJ8hY6SMwy7",
        "outputId": "7744bdb7-5a52-4785-e367-e1edc4b702a7"
      },
      "execution_count": 9,
      "outputs": [
        {
          "output_type": "execute_result",
          "data": {
            "text/plain": [
              "array([0])"
            ]
          },
          "metadata": {},
          "execution_count": 9
        }
      ]
    },
    {
      "cell_type": "code",
      "source": [
        "################################################\n",
        "# 4. Model Evaluation\n",
        "################################################\n",
        "\n",
        "# Confusion matrix için y_pred:\n",
        "y_pred = knn_model.predict(X)\n",
        "\n",
        "# AUC için y_prob:\n",
        "y_prob = knn_model.predict_proba(X)[:, 1]\n",
        "\n",
        "print(classification_report(y, y_pred))\n",
        "# acc 0.83\n",
        "# f1 0.74\n",
        "# AUC\n",
        "roc_auc_score(y, y_prob)\n",
        "# 0.90\n",
        "\n",
        "cv_results = cross_validate(knn_model, X, y, cv=5, scoring=[\"accuracy\", \"f1\", \"roc_auc\"])\n",
        "\n",
        "cv_results['test_accuracy'].mean()\n",
        "cv_results['test_f1'].mean()\n",
        "cv_results['test_roc_auc'].mean()\n",
        "\n",
        "\n",
        "# 0.73\n",
        "# 0.59\n",
        "# 0.78"
      ],
      "metadata": {
        "colab": {
          "base_uri": "https://localhost:8080/"
        },
        "id": "bJMXQtVkM6XU",
        "outputId": "1540cd76-4773-4b3f-e82f-d4ea58730d3a"
      },
      "execution_count": 10,
      "outputs": [
        {
          "output_type": "stream",
          "name": "stdout",
          "text": [
            "              precision    recall  f1-score   support\n",
            "\n",
            "           0       0.83      0.88      0.85       500\n",
            "           1       0.75      0.65      0.70       268\n",
            "\n",
            "    accuracy                           0.80       768\n",
            "   macro avg       0.79      0.77      0.78       768\n",
            "weighted avg       0.80      0.80      0.80       768\n",
            "\n"
          ]
        },
        {
          "output_type": "execute_result",
          "data": {
            "text/plain": [
              "0.7486331236897275"
            ]
          },
          "metadata": {},
          "execution_count": 10
        }
      ]
    },
    {
      "cell_type": "code",
      "source": [
        "# 1. Örnek boyutu arttıralabilir.\n",
        "# 2. Veri ön işleme\n",
        "# 3. Özellik mühendisliği\n",
        "# 4. İlgili algoritma için optimizasyonlar yapılabilir.\n",
        "\n",
        "knn_model.get_params()"
      ],
      "metadata": {
        "colab": {
          "base_uri": "https://localhost:8080/"
        },
        "id": "Zf9BBNUjNCTt",
        "outputId": "ed8eecfe-41ea-4c1d-9dd7-cfa70d2b7bbd"
      },
      "execution_count": 11,
      "outputs": [
        {
          "output_type": "execute_result",
          "data": {
            "text/plain": [
              "{'algorithm': 'auto',\n",
              " 'leaf_size': 30,\n",
              " 'metric': 'minkowski',\n",
              " 'metric_params': None,\n",
              " 'n_jobs': None,\n",
              " 'n_neighbors': 5,\n",
              " 'p': 2,\n",
              " 'weights': 'uniform'}"
            ]
          },
          "metadata": {},
          "execution_count": 11
        }
      ]
    },
    {
      "cell_type": "code",
      "source": [
        "##############################################\n",
        "# 5. Hyperparameter Optimization\n",
        "################################################\n",
        "\n",
        "knn_model = KNeighborsClassifier()\n",
        "knn_model.get_params()\n",
        "\n",
        "knn_params = {\"n_neighbors\": range(2, 50)}\n",
        "\n",
        "knn_gs_best = GridSearchCV(knn_model,\n",
        "                           knn_params,\n",
        "                           cv=5,\n",
        "                           n_jobs=-1,\n",
        "                           verbose=1).fit(X, y)\n",
        "\n",
        "knn_gs_best.best_params_"
      ],
      "metadata": {
        "colab": {
          "base_uri": "https://localhost:8080/"
        },
        "id": "tLkfMQNUNGup",
        "outputId": "e9228462-da0a-496b-dd1c-d964f2c74c1e"
      },
      "execution_count": 12,
      "outputs": [
        {
          "output_type": "stream",
          "name": "stdout",
          "text": [
            "Fitting 5 folds for each of 48 candidates, totalling 240 fits\n"
          ]
        },
        {
          "output_type": "execute_result",
          "data": {
            "text/plain": [
              "{'n_neighbors': 14}"
            ]
          },
          "metadata": {},
          "execution_count": 12
        }
      ]
    },
    {
      "cell_type": "code",
      "source": [
        "###############################################\n",
        "# 6. Final Model\n",
        "################################################\n",
        "\n",
        "knn_final = knn_model.set_params(**knn_gs_best.best_params_).fit(X, y)\n",
        "\n",
        "cv_results = cross_validate(knn_final,\n",
        "                            X,\n",
        "                            y,\n",
        "                            cv=5,\n",
        "                            scoring=[\"accuracy\", \"f1\", \"roc_auc\"])\n",
        "\n",
        "cv_results['test_accuracy'].mean()\n",
        "cv_results['test_f1'].mean()\n",
        "cv_results['test_roc_auc'].mean()\n",
        "\n",
        "#random_user = X.sample(1)\n",
        "\n",
        "#knn_final.predict(random_user)\n",
        "\n"
      ],
      "metadata": {
        "colab": {
          "base_uri": "https://localhost:8080/"
        },
        "id": "LFAOG3EBNiY2",
        "outputId": "df61833a-5efc-4300-a90a-5c80a9aef483"
      },
      "execution_count": 15,
      "outputs": [
        {
          "output_type": "execute_result",
          "data": {
            "text/plain": [
              "0.7957707896575821"
            ]
          },
          "metadata": {},
          "execution_count": 15
        }
      ]
    }
  ]
}